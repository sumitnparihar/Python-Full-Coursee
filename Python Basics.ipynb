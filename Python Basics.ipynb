{
 "cells": [
  {
   "cell_type": "code",
   "execution_count": 1,
   "metadata": {},
   "outputs": [
    {
     "name": "stdout",
     "output_type": "stream",
     "text": [
      "sumit singh \\n\\r\\Parihar\n"
     ]
    }
   ],
   "source": [
    "print(r\"sumit singh \\n\\r\\Parihar\")"
   ]
  },
  {
   "cell_type": "code",
   "execution_count": 9,
   "metadata": {},
   "outputs": [
    {
     "name": "stdout",
     "output_type": "stream",
     "text": [
      "😀\n"
     ]
    }
   ],
   "source": [
    "print(\"\\U0001F600\")"
   ]
  },
  {
   "cell_type": "code",
   "execution_count": 3,
   "metadata": {},
   "outputs": [
    {
     "name": "stdout",
     "output_type": "stream",
     "text": [
      "Enter name and age sumit 27\n",
      "sumit\n",
      "27\n"
     ]
    }
   ],
   "source": [
    "name,age=input(\"Enter name and age \").split()\n",
    "print(name)\n",
    "print(age)"
   ]
  },
  {
   "cell_type": "code",
   "execution_count": 5,
   "metadata": {},
   "outputs": [
    {
     "name": "stdout",
     "output_type": "stream",
     "text": [
      "My name is Sumit & age is    27\n"
     ]
    }
   ],
   "source": [
    "name=\"Sumit\"\n",
    "age=27\n",
    "\n",
    "print(\"My name is {} & age is    {}\".format(name,age))#curly braces are called place holder"
   ]
  },
  {
   "cell_type": "code",
   "execution_count": 8,
   "metadata": {},
   "outputs": [
    {
     "name": "stdout",
     "output_type": "stream",
     "text": [
      "enter three numbers for thr average4 4 4\n",
      "4\n",
      "4\n",
      "4\n",
      "Average is 4.0\n"
     ]
    }
   ],
   "source": [
    "n1,n2,n3=input(\"enter three numbers for thr average\").split()\n",
    "print(int(n1))\n",
    "print(int(n2))\n",
    "print(int(n3))\n",
    "\n",
    "avg=(int(n1)+int(n2)+int(n3))/3\n",
    "print(\"Average is {}\".format(avg))"
   ]
  },
  {
   "cell_type": "code",
   "execution_count": 1,
   "metadata": {},
   "outputs": [
    {
     "name": "stdout",
     "output_type": "stream",
     "text": [
      "sdfdfda\n"
     ]
    }
   ],
   "source": [
    "print(\"sdfdfda\")"
   ]
  },
  {
   "cell_type": "code",
   "execution_count": 9,
   "metadata": {},
   "outputs": [
    {
     "name": "stdout",
     "output_type": "stream",
     "text": [
      "u\n"
     ]
    }
   ],
   "source": [
    "string=\"Sumit\"\n",
    "print(string[1])\n",
    "\n"
   ]
  },
  {
   "cell_type": "code",
   "execution_count": 10,
   "metadata": {},
   "outputs": [
    {
     "name": "stdout",
     "output_type": "stream",
     "text": [
      "t\n"
     ]
    }
   ],
   "source": [
    "print(string[-1])"
   ]
  },
  {
   "cell_type": "markdown",
   "metadata": {},
   "source": [
    "string slicing"
   ]
  },
  {
   "cell_type": "code",
   "execution_count": 11,
   "metadata": {},
   "outputs": [
    {
     "name": "stdout",
     "output_type": "stream",
     "text": [
      "Su\n"
     ]
    }
   ],
   "source": [
    "    print(string[0:2])"
   ]
  },
  {
   "cell_type": "code",
   "execution_count": 12,
   "metadata": {},
   "outputs": [
    {
     "name": "stdout",
     "output_type": "stream",
     "text": [
      "it\n"
     ]
    }
   ],
   "source": [
    "print(string[3:5])"
   ]
  },
  {
   "cell_type": "markdown",
   "metadata": {},
   "source": [
    "Step in string slicing"
   ]
  },
  {
   "cell_type": "code",
   "execution_count": 27,
   "metadata": {
    "scrolled": true
   },
   "outputs": [
    {
     "name": "stdout",
     "output_type": "stream",
     "text": [
      "Parihar\n",
      "rahiraP\n",
      "7\n",
      "parihar\n",
      "2\n"
     ]
    }
   ],
   "source": [
    "string=\"Parihar\"\n",
    "print(string[0:7:1])\n",
    "print(string[-1::-1])# -1 means string will go back\n",
    "print(len(string))\n",
    "\n",
    "print(string.lower())\n",
    "print(string.count(\"a\"))"
   ]
  },
  {
   "cell_type": "code",
   "execution_count": 38,
   "metadata": {},
   "outputs": [
    {
     "name": "stdout",
     "output_type": "stream",
     "text": [
      "Enter your name and surname sumit PArihar\n",
      "name=sumit surname=PArihar\n",
      "5\n",
      "Enter the character to counta\n",
      "a\n"
     ]
    },
    {
     "data": {
      "text/plain": [
       "1"
      ]
     },
     "execution_count": 38,
     "metadata": {},
     "output_type": "execute_result"
    }
   ],
   "source": [
    "name,surname=input(\"Enter your name and surname \").split()\n",
    "print(\"name={} surname={}\".format(name,surname))\n",
    "\n",
    "print(len(name))\n",
    "print(input(\"Enter the character to count\"))\n",
    "\n",
    "surname.count(\"a\")"
   ]
  },
  {
   "cell_type": "code",
   "execution_count": 2,
   "metadata": {},
   "outputs": [
    {
     "name": "stdout",
     "output_type": "stream",
     "text": [
      "rumit ringh parihar\n"
     ]
    }
   ],
   "source": [
    "string= \"sumit singh parihar\"\n",
    "print(string.replace(\"s\",\"r\"))"
   ]
  },
  {
   "cell_type": "code",
   "execution_count": 3,
   "metadata": {},
   "outputs": [
    {
     "name": "stdout",
     "output_type": "stream",
     "text": [
      "14\n"
     ]
    }
   ],
   "source": [
    "print(string.find(\"r\"))#this is find and replace method"
   ]
  },
  {
   "cell_type": "markdown",
   "metadata": {},
   "source": [
    "# Strings are immutable"
   ]
  },
  {
   "cell_type": "markdown",
   "metadata": {},
   "source": [
    "#Once string is defined we can not change it.\n",
    "#if we replace any word of the string then it wont do changes in the orignal string it \n",
    "#will create new string and it will make changes in that new string"
   ]
  },
  {
   "cell_type": "markdown",
   "metadata": {},
   "source": [
    "#####################Summary#######################\n",
    "\n",
    "\n",
    "string -> Collection of character inside single quote or double quote\n",
    "string indexing -> position of character in string\n",
    "string slicing -> to print half string e.g name[0:5]\n",
    "start argument ,stop argument,step\n",
    "\n",
    "to take two input from the useruse .split()"
   ]
  },
  {
   "cell_type": "markdown",
   "metadata": {},
   "source": [
    "# if condition"
   ]
  },
  {
   "cell_type": "code",
   "execution_count": 12,
   "metadata": {},
   "outputs": [
    {
     "name": "stdout",
     "output_type": "stream",
     "text": [
      "Enter the age12\n"
     ]
    }
   ],
   "source": [
    "age = input(\"Enter the age\")\n",
    "age=int(age)\n",
    "\n",
    "if age>=14:\n",
    "    pass\n",
    "   # print(\"you are above 14 u caj play the game\")"
   ]
  },
  {
   "cell_type": "markdown",
   "metadata": {},
   "source": [
    "# Pass statement"
   ]
  },
  {
   "cell_type": "markdown",
   "metadata": {},
   "source": [
    "see above"
   ]
  },
  {
   "cell_type": "markdown",
   "metadata": {},
   "source": [
    "if elif else if statement is like    if else if else in C."
   ]
  },
  {
   "cell_type": "markdown",
   "metadata": {},
   "source": [
    "# in keyword"
   ]
  },
  {
   "cell_type": "code",
   "execution_count": 15,
   "metadata": {},
   "outputs": [
    {
     "name": "stdout",
     "output_type": "stream",
     "text": [
      "not present\n"
     ]
    }
   ],
   "source": [
    "string= \"Sumit\"\n",
    "if \"z\" in \"Sumit\":\n",
    "    print(\"u is present in sumit\")\n",
    "else: \n",
    "    print(\"not present\")\n",
    "    "
   ]
  },
  {
   "cell_type": "markdown",
   "metadata": {},
   "source": [
    "\n",
    "# to check string is empty or not"
   ]
  },
  {
   "cell_type": "code",
   "execution_count": 18,
   "metadata": {},
   "outputs": [
    {
     "name": "stdout",
     "output_type": "stream",
     "text": [
      "no present\n"
     ]
    }
   ],
   "source": [
    "name = \"\"\n",
    "if name:#it is true when something is present in the string\n",
    "    print(\"line\")\n",
    "    \n",
    "else:\n",
    "    print(\"no present\")"
   ]
  },
  {
   "cell_type": "markdown",
   "metadata": {},
   "source": [
    "# Loops"
   ]
  },
  {
   "cell_type": "code",
   "execution_count": 4,
   "metadata": {},
   "outputs": [
    {
     "name": "stdout",
     "output_type": "stream",
     "text": [
      "Sumit singh parihar\n",
      "Sumit singh parihar\n",
      "Sumit singh parihar\n",
      "Sumit singh parihar\n",
      "Sumit singh parihar\n",
      "Sumit singh parihar\n",
      "Sumit singh parihar\n",
      "Sumit singh parihar\n",
      "Sumit singh parihar\n",
      "Sumit singh parihar\n"
     ]
    }
   ],
   "source": [
    "i = 1\n",
    "while i<=10:\n",
    "    print(\"Sumit singh parihar\")\n",
    "    i=i+1"
   ]
  },
  {
   "cell_type": "markdown",
   "metadata": {},
   "source": [
    "# sum of numbers from 1 to 10 using while loop"
   ]
  },
  {
   "cell_type": "code",
   "execution_count": 25,
   "metadata": {},
   "outputs": [
    {
     "name": "stdout",
     "output_type": "stream",
     "text": [
      "Sum of numbers from 1 to 10 is  5050\n"
     ]
    }
   ],
   "source": [
    "i=1\n",
    "summ=0\n",
    "while (i<=100):\n",
    "    summ=summ+i\n",
    "    i=i+1\n",
    "    \n",
    "print(\"Sum of numbers from 1 to 10 is \",summ)"
   ]
  },
  {
   "cell_type": "markdown",
   "metadata": {},
   "source": [
    "# for loop in python"
   ]
  },
  {
   "cell_type": "code",
   "execution_count": 28,
   "metadata": {},
   "outputs": [
    {
     "name": "stdout",
     "output_type": "stream",
     "text": [
      "Sumit\n",
      "Sumit\n",
      "Sumit\n",
      "Sumit\n",
      "Sumit\n",
      "Sumit\n",
      "Sumit\n",
      "Sumit\n",
      "Sumit\n",
      "Sumit\n"
     ]
    }
   ],
   "source": [
    "for i in range(10):#range will go from 0 to 9,,,,,,,,last one will not be incluted\n",
    "    print(\"Sumit\")"
   ]
  },
  {
   "cell_type": "markdown",
   "metadata": {},
   "source": [
    "sum from 1 to 10 using for loop"
   ]
  },
  {
   "cell_type": "code",
   "execution_count": 31,
   "metadata": {},
   "outputs": [
    {
     "name": "stdout",
     "output_type": "stream",
     "text": [
      "Sum is  55\n"
     ]
    }
   ],
   "source": [
    "sum=0\n",
    "for i in range(1,11):\n",
    "    sum=sum+i\n",
    "    \n",
    "print(\"Sum is \",sum)"
   ]
  },
  {
   "cell_type": "markdown",
   "metadata": {},
   "source": [
    "# break and continue keyword"
   ]
  },
  {
   "cell_type": "markdown",
   "metadata": {},
   "source": [
    "as available in c"
   ]
  },
  {
   "cell_type": "markdown",
   "metadata": {},
   "source": [
    "# Functions in Python"
   ]
  },
  {
   "cell_type": "code",
   "execution_count": 1,
   "metadata": {},
   "outputs": [
    {
     "name": "stdout",
     "output_type": "stream",
     "text": [
      "9\n"
     ]
    }
   ],
   "source": [
    "\n",
    "def add_two(a,b):\n",
    "    return a+b\n",
    "\n",
    "print(add_two(5,4))\n",
    "\n",
    "\n",
    "def number_big(x,y):\n",
    "    if x>y:\n",
    "        return 1\n",
    "    else:\n",
    "        return 0"
   ]
  },
  {
   "cell_type": "code",
   "execution_count": 14,
   "metadata": {},
   "outputs": [
    {
     "name": "stdout",
     "output_type": "stream",
     "text": [
      "Enter the first numnber12\n",
      "Enter the second number13\n",
      "b is big\n"
     ]
    }
   ],
   "source": [
    "\n",
    "def number_big(x,y):\n",
    "    if x>y:\n",
    "        return 1\n",
    "    else:\n",
    "        return 0\n",
    "\n",
    "a=int(input(\"Enter the first numnber\"))\n",
    "b=int(input(\"Enter the second number\"))\n",
    "\n",
    "num=number_big((a),(b))\n",
    "if (num == 1):\n",
    "    print(\"a is big\")\n",
    "else:\n",
    "    print(\"b is big\")\n",
    "\n",
    "\n"
   ]
  },
  {
   "cell_type": "markdown",
   "metadata": {},
   "source": [
    "Big of threee numbers"
   ]
  },
  {
   "cell_type": "code",
   "execution_count": 5,
   "metadata": {},
   "outputs": [
    {
     "name": "stdout",
     "output_type": "stream",
     "text": [
      "Enter the first numnber =12 \n",
      "Enter the second number1\n",
      "Enter the third number14\n",
      "c is big\n"
     ]
    }
   ],
   "source": [
    "\n",
    "def number_big(a,b,c):\n",
    "    if a>b:\n",
    "        if a>c:\n",
    "            return 1\n",
    "        else:\n",
    "            return 3\n",
    "            \n",
    "    elif b>c:\n",
    "        return 2\n",
    "        \n",
    "\n",
    "a=int(input(\"Enter the first numnber =\"))\n",
    "b=int(input(\"Enter the second number\"))\n",
    "c=int(input(\"Enter the third number\"))\n",
    "\n",
    "\n",
    "num=number_big((a),(b),(c))\n",
    "\n",
    "if (num == 1):\n",
    "    print(\"a is big\")\n",
    "elif(num == 2):\n",
    "    print(\"b is big\")\n",
    "elif(num == 3):\n",
    "    print(\"c is big\")\n",
    "    \n",
    "    "
   ]
  },
  {
   "cell_type": "markdown",
   "metadata": {},
   "source": [
    "Find Given string is Palindrome OR not"
   ]
  },
  {
   "cell_type": "code",
   "execution_count": 16,
   "metadata": {},
   "outputs": [
    {
     "name": "stdout",
     "output_type": "stream",
     "text": [
      "timuS\n",
      "Given String is not Palindrome\n"
     ]
    }
   ],
   "source": [
    "def is_Palindrome(word):\n",
    "    palin=word[::-1]\n",
    "    print(palin)\n",
    "    \n",
    "    if (palin==word):\n",
    "        print(\"Given String is Palindrome\")\n",
    "    else:\n",
    "        print(\"Given String is not Palindrome\")\n",
    "    \n",
    "    \n",
    "is_Palindrome(\"Sumit\")\n",
    "#is_Palindrome(\"NamaN\")\n",
    "    "
   ]
  },
  {
   "cell_type": "markdown",
   "metadata": {},
   "source": [
    "# Default Parameter"
   ]
  },
  {
   "cell_type": "markdown",
   "metadata": {},
   "source": [
    "as in c++"
   ]
  },
  {
   "cell_type": "markdown",
   "metadata": {},
   "source": [
    "# List "
   ]
  },
  {
   "cell_type": "code",
   "execution_count": 3,
   "metadata": {},
   "outputs": [
    {
     "name": "stdout",
     "output_type": "stream",
     "text": [
      "[1, 2, 3]\n",
      "['Sumit', 'Neha', 'Parihar', 'Engineer']\n"
     ]
    }
   ],
   "source": [
    "#List is a data structure\n",
    "\n",
    "#List is ordered , changebale, collectoin of items\n",
    "\n",
    "#we can store int ,float,string\n",
    "\n",
    "# we can append data to the list\n",
    "\n",
    "\n",
    "# by using [insert] method we can add data to desired position\n",
    "\n",
    "#by using [pop,reove,delet] method we can delet the data\n",
    "\n",
    "\n",
    "\n",
    "\n",
    "number = [1,2,3]\n",
    "print(number)\n",
    "\n",
    "word=[\"Sumit\" , \"Parihar\",\"Engineer\"]\n",
    "\n",
    "word.insert(1,\"Neha\")\n",
    "print(word)\n",
    "#print(word[:2])\n",
    "\n",
    "\n",
    "\n",
    "#mixed=[1,2,3,\"Sumit\",23.2,None]\n",
    "#print(mixed)\n",
    "\n",
    "#mixed[3]=\"Parihar\"\n",
    "\n",
    "\n",
    "#print(mixed)"
   ]
  },
  {
   "cell_type": "markdown",
   "metadata": {},
   "source": [
    "#To check if element is present in list use in keyword"
   ]
  },
  {
   "cell_type": "code",
   "execution_count": 5,
   "metadata": {},
   "outputs": [
    {
     "name": "stdout",
     "output_type": "stream",
     "text": [
      "p not present\n"
     ]
    }
   ],
   "source": [
    "word=[\"Sumit\" , \"Parihar\",\"Engineer\"]\n",
    "if \"Parihqqar\" in word:\n",
    "    print(\"p present\")\n",
    "else:\n",
    "     print(\"p not present\")"
   ]
  },
  {
   "cell_type": "markdown",
   "metadata": {},
   "source": [
    "# Some Methods in list\n",
    "\n",
    "#count   -> to count given element in the list\n",
    "#sort    -> to sort the list in aplphabetical order\n",
    "#sorted function->  it will print the list in the sorted order\n",
    "#clear-> it will clear the list means entire list will delete\n",
    "#copy -. it will copy the list"
   ]
  },
  {
   "cell_type": "markdown",
   "metadata": {},
   "source": [
    "# List Comparision"
   ]
  },
  {
   "cell_type": "code",
   "execution_count": 10,
   "metadata": {},
   "outputs": [
    {
     "name": "stdout",
     "output_type": "stream",
     "text": [
      "True\n",
      "False\n"
     ]
    }
   ],
   "source": [
    "list1=[\"Sumit\" , \"Parihar\",\"Engineer\"]\n",
    "list3=[\"Sumit\" , \"Parihar\",\"Engineer\"]\n",
    "list2=[\"Sumit\" ,\"Singh\",\"Parihar\",\"Engineer\"]\n",
    "\n",
    "\n",
    "print(list1==list3)  # == will check if the elements of the list are equal or not\n",
    "\n",
    "\n",
    "\n",
    "print(list1 is list2)  # is keyword will check if both the list are at the same place\n",
    "\n"
   ]
  },
  {
   "cell_type": "markdown",
   "metadata": {},
   "source": [
    "# join and split method"
   ]
  },
  {
   "cell_type": "code",
   "execution_count": 15,
   "metadata": {},
   "outputs": [
    {
     "name": "stdout",
     "output_type": "stream",
     "text": [
      "Sumti 24 1992\n",
      "['Sumti', '24', '1992']\n",
      "['Sum', 'ti241', '992']\n"
     ]
    }
   ],
   "source": [
    "#Split method will convert the given string in to the list from the space OR from the coma\n",
    "\n",
    "my_string=\"Sumti 24 1992\"\n",
    "print(my_string)\n",
    "\n",
    "my_string=\"Sumti 24 1992\".split()\n",
    "print(my_string)# here string is converted in to the list as given below\n",
    "\n",
    "my_string=\"Sum,ti241,992\".split(\",\")\n",
    "print(my_string)\n"
   ]
  },
  {
   "cell_type": "markdown",
   "metadata": {},
   "source": [
    "# List VS array"
   ]
  },
  {
   "cell_type": "markdown",
   "metadata": {},
   "source": [
    "#Array -> ordered collection of items\n",
    "#   -> we can store only same type of data\n",
    "        \n",
    "#List   -> Store any data\n",
    "\n",
    "#Array(Numpy array) module is available in python -> fixed data type\n",
    "#for data science we use numpy array\n",
    "#it is Binded with C language and we get flexibilityt of python\n",
    "\n",
    "\n"
   ]
  },
  {
   "cell_type": "markdown",
   "metadata": {},
   "source": [
    "# List  VS String"
   ]
  },
  {
   "cell_type": "markdown",
   "metadata": {},
   "source": [
    "#Strings in python are immutable\n",
    "#means we can not make changes in string\n",
    "\n",
    "#List in python are mutable\n",
    "#we can make changes in List"
   ]
  },
  {
   "cell_type": "markdown",
   "metadata": {},
   "source": [
    "# For Loop in List"
   ]
  },
  {
   "cell_type": "code",
   "execution_count": 16,
   "metadata": {},
   "outputs": [
    {
     "name": "stdout",
     "output_type": "stream",
     "text": [
      "abcd\n",
      "efgh\n",
      "ijkl\n",
      "mnop\n"
     ]
    }
   ],
   "source": [
    "List=['abcd','efgh','ijkl','mnop']\n",
    "\n",
    "for fruit in List:\n",
    "    print(fruit)"
   ]
  },
  {
   "cell_type": "markdown",
   "metadata": {},
   "source": [
    "# List inside List"
   ]
  },
  {
   "cell_type": "code",
   "execution_count": 18,
   "metadata": {},
   "outputs": [
    {
     "name": "stdout",
     "output_type": "stream",
     "text": [
      "[1, 2, 3]\n",
      "[3, 4, 5]\n",
      "[9, 8, 7]\n"
     ]
    }
   ],
   "source": [
    "matrix=[[1,2,3],[3,4,5],[9,8,7]]\n",
    "for i in matrix:\n",
    "    print(i)"
   ]
  },
  {
   "cell_type": "markdown",
   "metadata": {},
   "source": [
    "# Generate list with range function"
   ]
  },
  {
   "cell_type": "code",
   "execution_count": 19,
   "metadata": {},
   "outputs": [
    {
     "name": "stdout",
     "output_type": "stream",
     "text": [
      "[1, 2, 3, 4, 5, 6, 7, 8, 9]\n"
     ]
    }
   ],
   "source": [
    "numbers=list(range(1,10))\n",
    "print(numbers)"
   ]
  },
  {
   "cell_type": "code",
   "execution_count": 5,
   "metadata": {},
   "outputs": [
    {
     "name": "stdout",
     "output_type": "stream",
     "text": [
      "[1, 4, 9, 16]\n"
     ]
    }
   ],
   "source": [
    "#Define a function which takes list as a input and returns its square\n",
    "\n",
    "\n",
    "\n",
    "\n",
    "def list_square(list):\n",
    "    L=[]\n",
    "    for i in list:     #here in variable i the value of list is stored \n",
    "        L.append(i**2)\n",
    "    return L\n",
    "\n",
    "\n",
    "list=[1,2,3,4]\n",
    "new_List=[]\n",
    "new_List=list_square(list)\n",
    "print(new_List)\n",
    "   \n"
   ]
  },
  {
   "cell_type": "markdown",
   "metadata": {},
   "source": [
    "# Tuple\n",
    "\n",
    "#Tupels are immutable\n",
    "#tuples are ordered colection of items\n",
    "#tuples can store any datatype\n",
    "#we can not change values of tuple once it is created\n",
    "#tuples are used when we know our data is not going to change\n",
    "\n",
    "#tuples are faster than list\n"
   ]
  },
  {
   "cell_type": "markdown",
   "metadata": {},
   "source": [
    "Looping in Tuple"
   ]
  },
  {
   "cell_type": "code",
   "execution_count": 2,
   "metadata": {},
   "outputs": [
    {
     "name": "stdout",
     "output_type": "stream",
     "text": [
      "1\n",
      "2\n",
      "3\n",
      "4\n"
     ]
    }
   ],
   "source": [
    "mixed=(1,2,3,4)\n",
    "for i in mixed:\n",
    "    print(i)"
   ]
  },
  {
   "cell_type": "markdown",
   "metadata": {},
   "source": [
    "# Tuple with one Element"
   ]
  },
  {
   "cell_type": "code",
   "execution_count": 3,
   "metadata": {},
   "outputs": [
    {
     "name": "stdout",
     "output_type": "stream",
     "text": [
      "<class 'int'>\n"
     ]
    }
   ],
   "source": [
    "mixed=(1)\n",
    "print(type(mixed))"
   ]
  },
  {
   "cell_type": "code",
   "execution_count": 5,
   "metadata": {},
   "outputs": [
    {
     "name": "stdout",
     "output_type": "stream",
     "text": [
      "<class 'tuple'>\n"
     ]
    }
   ],
   "source": [
    "#To make it behave like a tuple we need parantheses \n",
    "mixed=(1,)\n",
    "print(type(mixed))"
   ]
  },
  {
   "cell_type": "code",
   "execution_count": 6,
   "metadata": {},
   "outputs": [
    {
     "name": "stdout",
     "output_type": "stream",
     "text": [
      "<class 'tuple'>\n"
     ]
    }
   ],
   "source": [
    "#Tuple without parantheses\n",
    "\n",
    "day='Sunday','Monday','Tuesday'\n",
    "print(type(day))"
   ]
  },
  {
   "cell_type": "markdown",
   "metadata": {},
   "source": [
    "Tuple Unpacking"
   ]
  },
  {
   "cell_type": "code",
   "execution_count": 4,
   "metadata": {},
   "outputs": [
    {
     "name": "stdout",
     "output_type": "stream",
     "text": [
      "Sunday\n"
     ]
    }
   ],
   "source": [
    "day='Sunday','Monday','Tuesday','Wednesday'\n",
    "a1,a2,a3,a4=day\n",
    "print(a1)"
   ]
  },
  {
   "cell_type": "code",
   "execution_count": 2,
   "metadata": {},
   "outputs": [
    {
     "name": "stdout",
     "output_type": "stream",
     "text": [
      "Monday\n"
     ]
    }
   ],
   "source": [
    "print(a2)"
   ]
  },
  {
   "cell_type": "markdown",
   "metadata": {},
   "source": [
    "List inside tuple"
   ]
  },
  {
   "cell_type": "code",
   "execution_count": 10,
   "metadata": {},
   "outputs": [
    {
     "name": "stdout",
     "output_type": "stream",
     "text": [
      "('Sunday', 'Monday', 'Tuesday', ['list', 'inside', 'tuple', 'despacito'])\n"
     ]
    }
   ],
   "source": [
    "day=('Sunday','Monday','Tuesday',['list','inside','tuple'])\n",
    "day[3].append('despacito')\n",
    "print(day)\n",
    "\n"
   ]
  },
  {
   "cell_type": "markdown",
   "metadata": {},
   "source": [
    "#Functions inside tuple\n"
   ]
  },
  {
   "cell_type": "code",
   "execution_count": 14,
   "metadata": {},
   "outputs": [
    {
     "name": "stdout",
     "output_type": "stream",
     "text": [
      "89\n"
     ]
    }
   ],
   "source": [
    "mixed=(1,55,89,56)\n",
    "print(max(mixed))"
   ]
  },
  {
   "cell_type": "markdown",
   "metadata": {},
   "source": [
    "# Function returning two values"
   ]
  },
  {
   "cell_type": "code",
   "execution_count": 18,
   "metadata": {},
   "outputs": [
    {
     "name": "stdout",
     "output_type": "stream",
     "text": [
      "(11, 30, -1)\n"
     ]
    }
   ],
   "source": [
    "def calculator(a,b):\n",
    "    summ=a+b\n",
    "    mul=a*b\n",
    "    sub=a-b\n",
    "    return(summ,mul,sub)\n",
    "      \n",
    "        \n",
    "print(calculator(5,6))\n",
    "\n"
   ]
  },
  {
   "cell_type": "code",
   "execution_count": 20,
   "metadata": {
    "scrolled": true
   },
   "outputs": [
    {
     "name": "stdout",
     "output_type": "stream",
     "text": [
      "(1, 2, 3, 4, 5, 6, 7, 8, 9)\n"
     ]
    }
   ],
   "source": [
    "#More about tuple,list ,string\n",
    "#We can create tuple using range function also\n",
    "\n",
    "num=tuple(range(1,10))\n",
    "\n",
    "print(num)"
   ]
  },
  {
   "cell_type": "markdown",
   "metadata": {},
   "source": [
    "# Dictionaries\n"
   ]
  },
  {
   "cell_type": "code",
   "execution_count": 22,
   "metadata": {},
   "outputs": [
    {
     "name": "stdout",
     "output_type": "stream",
     "text": [
      "['sumit', 27, ['desapcito', 'aaaaa'], ['awekening', 'fairy tale']]\n",
      "<class 'list'>\n"
     ]
    }
   ],
   "source": [
    "# Dictiobary is unordedred collection of data  : key and value\n",
    "# we use dictioanries because of limitations of list,because list\n",
    "# are not enough to represent real data.\n",
    "\n",
    "\n",
    "#Dictioanry can store any type of data\n",
    "#Example  = Numbers,string,List ,Dictioanry\n",
    "user = ['sumit',27,['desapcito','aaaaa'],['awekening','fairy tale']]   #this is list\n",
    "print(user)\n",
    "print(type(user))"
   ]
  },
  {
   "cell_type": "code",
   "execution_count": 38,
   "metadata": {},
   "outputs": [
    {
     "name": "stdout",
     "output_type": "stream",
     "text": [
      "{'name': 'sumit', 'age': 27}\n",
      "<class 'dict'>\n"
     ]
    }
   ],
   "source": [
    "#Dictiobary is unordedred collection of data  : key and value\n",
    "#creating Dictionary\n",
    "user = {'name' : 'sumit', 'age' : 27}\n",
    "print(user)\n",
    "\n",
    "print(type(user))\n",
    "\n",
    "#print(user[name])"
   ]
  },
  {
   "cell_type": "code",
   "execution_count": 42,
   "metadata": {},
   "outputs": [
    {
     "name": "stdout",
     "output_type": "stream",
     "text": [
      "{'name': 'sumit', 'age': 27}\n",
      "<class 'dict'>\n",
      "sumit\n",
      "sumit\n",
      "27\n"
     ]
    }
   ],
   "source": [
    "#we can create Dictionary using dict keyword\n",
    "\n",
    "user =dict(name = 'sumit', age = 27)\n",
    "print(user)\n",
    "print(type(user))\n",
    "\n",
    "#access data in Dict\n",
    "print(user['name'])\n"
   ]
  },
  {
   "cell_type": "code",
   "execution_count": 2,
   "metadata": {},
   "outputs": [
    {
     "name": "stdout",
     "output_type": "stream",
     "text": [
      "Sumit\n",
      "27\n",
      "{'name': 'Sumit', 'age': 27, 'Surname': 'Parihar'}\n"
     ]
    }
   ],
   "source": [
    "#for loop in Dictionary\n",
    "my_data = {'name':'Sumit' , 'age' :27 }\n",
    "for i in my_data.values():\n",
    "    print(i)\n",
    "    \n",
    "my_data2 = {'Surname' : 'Parihar'}\n",
    "my_data.update(my_data2)\n",
    "print(my_data)"
   ]
  },
  {
   "cell_type": "code",
   "execution_count": 3,
   "metadata": {},
   "outputs": [
    {
     "name": "stdout",
     "output_type": "stream",
     "text": [
      "{'name': 'unknown', 'age': 'unknown', 'surname': 'unknown'}\n"
     ]
    }
   ],
   "source": [
    "#Fromkeys :- used to create Dictionaries & to give same value of the key\n",
    "\n",
    "my_data = dict.fromkeys(['name' , 'age' , 'surname'],'unknown')\n",
    "print(my_data)\n"
   ]
  },
  {
   "cell_type": "code",
   "execution_count": null,
   "metadata": {},
   "outputs": [],
   "source": []
  }
 ],
 "metadata": {
  "kernelspec": {
   "display_name": "Python 3",
   "language": "python",
   "name": "python3"
  },
  "language_info": {
   "codemirror_mode": {
    "name": "ipython",
    "version": 3
   },
   "file_extension": ".py",
   "mimetype": "text/x-python",
   "name": "python",
   "nbconvert_exporter": "python",
   "pygments_lexer": "ipython3",
   "version": "3.7.3"
  }
 },
 "nbformat": 4,
 "nbformat_minor": 2
}
